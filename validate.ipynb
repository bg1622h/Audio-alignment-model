{
 "cells": [
  {
   "cell_type": "code",
   "execution_count": 1,
   "metadata": {},
   "outputs": [
    {
     "data": {
      "text/plain": [
       "DataParallel(\n",
       "  (module): AudioAligmentModel(\n",
       "    (conv_layer): Conv1d(144, 256, kernel_size=(3,), stride=(1,), padding=(1,))\n",
       "    (linear): Linear(in_features=256, out_features=256, bias=True)\n",
       "    (dropout): Dropout(p=0.1, inplace=False)\n",
       "    (positional_encoding): PositionalEncoding()\n",
       "    (conformer): ModuleList(\n",
       "      (0-2): 3 x ConformerBlock(\n",
       "        (fnn1): FeedForwardModule(\n",
       "          (fnn): Sequential(\n",
       "            (0): LayerNorm((256,), eps=1e-05, elementwise_affine=True)\n",
       "            (1): Linear(in_features=256, out_features=1024, bias=True)\n",
       "            (2): Swish()\n",
       "            (3): Dropout(p=0.1, inplace=False)\n",
       "            (4): Linear(in_features=1024, out_features=256, bias=True)\n",
       "            (5): Dropout(p=0.1, inplace=False)\n",
       "          )\n",
       "        )\n",
       "        (self_attention): MutliHead_SelfAttention(\n",
       "          (attention): MultiheadAttention(\n",
       "            (out_proj): NonDynamicallyQuantizableLinear(in_features=256, out_features=256, bias=True)\n",
       "          )\n",
       "        )\n",
       "        (conv): ConvolutionModule(\n",
       "          (conv): Sequential(\n",
       "            (0): Conv1d(256, 512, kernel_size=(1,), stride=(1,), groups=256)\n",
       "            (1): GLU(dim=1)\n",
       "            (2): Conv1d(256, 256, kernel_size=(31,), stride=(1,), padding=(15,), groups=256)\n",
       "            (3): BatchNorm1d(256, eps=1e-05, momentum=0.1, affine=True, track_running_stats=True)\n",
       "            (4): Swish()\n",
       "            (5): Conv1d(256, 256, kernel_size=(1,), stride=(1,), groups=256)\n",
       "            (6): Dropout(p=0.1, inplace=False)\n",
       "          )\n",
       "        )\n",
       "        (fnn2): FeedForwardModule(\n",
       "          (fnn): Sequential(\n",
       "            (0): LayerNorm((256,), eps=1e-05, elementwise_affine=True)\n",
       "            (1): Linear(in_features=256, out_features=1024, bias=True)\n",
       "            (2): Swish()\n",
       "            (3): Dropout(p=0.1, inplace=False)\n",
       "            (4): Linear(in_features=1024, out_features=256, bias=True)\n",
       "            (5): Dropout(p=0.1, inplace=False)\n",
       "          )\n",
       "        )\n",
       "        (norm): LayerNorm((256,), eps=1e-05, elementwise_affine=True)\n",
       "      )\n",
       "    )\n",
       "    (final_block1): ConformerBlock(\n",
       "      (fnn1): FeedForwardModule(\n",
       "        (fnn): Sequential(\n",
       "          (0): LayerNorm((256,), eps=1e-05, elementwise_affine=True)\n",
       "          (1): Linear(in_features=256, out_features=1024, bias=True)\n",
       "          (2): Swish()\n",
       "          (3): Dropout(p=0.1, inplace=False)\n",
       "          (4): Linear(in_features=1024, out_features=256, bias=True)\n",
       "          (5): Dropout(p=0.1, inplace=False)\n",
       "        )\n",
       "      )\n",
       "      (self_attention): MutliHead_SelfAttention(\n",
       "        (attention): MultiheadAttention(\n",
       "          (out_proj): NonDynamicallyQuantizableLinear(in_features=256, out_features=256, bias=True)\n",
       "        )\n",
       "      )\n",
       "      (conv): ConvolutionModule(\n",
       "        (conv): Sequential(\n",
       "          (0): Conv1d(256, 512, kernel_size=(1,), stride=(1,), groups=256)\n",
       "          (1): GLU(dim=1)\n",
       "          (2): Conv1d(256, 256, kernel_size=(31,), stride=(1,), padding=(15,), groups=256)\n",
       "          (3): BatchNorm1d(256, eps=1e-05, momentum=0.1, affine=True, track_running_stats=True)\n",
       "          (4): Swish()\n",
       "          (5): Conv1d(256, 256, kernel_size=(1,), stride=(1,), groups=256)\n",
       "          (6): Dropout(p=0.1, inplace=False)\n",
       "        )\n",
       "      )\n",
       "      (fnn2): FeedForwardModule(\n",
       "        (fnn): Sequential(\n",
       "          (0): LayerNorm((256,), eps=1e-05, elementwise_affine=True)\n",
       "          (1): Linear(in_features=256, out_features=1024, bias=True)\n",
       "          (2): Swish()\n",
       "          (3): Dropout(p=0.1, inplace=False)\n",
       "          (4): Linear(in_features=1024, out_features=256, bias=True)\n",
       "          (5): Dropout(p=0.1, inplace=False)\n",
       "        )\n",
       "      )\n",
       "      (norm): LayerNorm((256,), eps=1e-05, elementwise_affine=True)\n",
       "    )\n",
       "    (final_block2): ConformerBlock(\n",
       "      (fnn1): FeedForwardModule(\n",
       "        (fnn): Sequential(\n",
       "          (0): LayerNorm((256,), eps=1e-05, elementwise_affine=True)\n",
       "          (1): Linear(in_features=256, out_features=1024, bias=True)\n",
       "          (2): Swish()\n",
       "          (3): Dropout(p=0.1, inplace=False)\n",
       "          (4): Linear(in_features=1024, out_features=256, bias=True)\n",
       "          (5): Dropout(p=0.1, inplace=False)\n",
       "        )\n",
       "      )\n",
       "      (self_attention): MutliHead_SelfAttention(\n",
       "        (attention): MultiheadAttention(\n",
       "          (out_proj): NonDynamicallyQuantizableLinear(in_features=256, out_features=256, bias=True)\n",
       "        )\n",
       "      )\n",
       "      (conv): ConvolutionModule(\n",
       "        (conv): Sequential(\n",
       "          (0): Conv1d(256, 512, kernel_size=(1,), stride=(1,), groups=256)\n",
       "          (1): GLU(dim=1)\n",
       "          (2): Conv1d(256, 256, kernel_size=(31,), stride=(1,), padding=(15,), groups=256)\n",
       "          (3): BatchNorm1d(256, eps=1e-05, momentum=0.1, affine=True, track_running_stats=True)\n",
       "          (4): Swish()\n",
       "          (5): Conv1d(256, 256, kernel_size=(1,), stride=(1,), groups=256)\n",
       "          (6): Dropout(p=0.1, inplace=False)\n",
       "        )\n",
       "      )\n",
       "      (fnn2): FeedForwardModule(\n",
       "        (fnn): Sequential(\n",
       "          (0): LayerNorm((256,), eps=1e-05, elementwise_affine=True)\n",
       "          (1): Linear(in_features=256, out_features=1024, bias=True)\n",
       "          (2): Swish()\n",
       "          (3): Dropout(p=0.1, inplace=False)\n",
       "          (4): Linear(in_features=1024, out_features=256, bias=True)\n",
       "          (5): Dropout(p=0.1, inplace=False)\n",
       "        )\n",
       "      )\n",
       "      (norm): LayerNorm((256,), eps=1e-05, elementwise_affine=True)\n",
       "    )\n",
       "    (output1): Linear(in_features=256, out_features=129, bias=True)\n",
       "    (output2): Linear(in_features=256, out_features=129, bias=True)\n",
       "    (log_softmax): LogSoftmax(dim=1)\n",
       "  )\n",
       ")"
      ]
     },
     "execution_count": 1,
     "metadata": {},
     "output_type": "execute_result"
    }
   ],
   "source": [
    "import torch\n",
    "import torch.nn as nn\n",
    "import src.model.AudioAligmentModel as AudioAligmentModel\n",
    "model = AudioAligmentModel(\n",
    "    input_dim = 144,\n",
    "    num_classes = 129,\n",
    "    num_blocks = 3,\n",
    "    d_model = 256,\n",
    "    nhead = 2,\n",
    "    ffn_expansion_factor = 4,\n",
    "    kernel_size = 31,\n",
    "    dropout = 0.1,\n",
    "\n",
    ")\n",
    "model = nn.DataParallel(model)\n",
    "model.load_state_dict(torch.load(\"outmodel.pt\"))\n",
    "model.eval()"
   ]
  },
  {
   "cell_type": "code",
   "execution_count": 2,
   "metadata": {},
   "outputs": [
    {
     "name": "stderr",
     "output_type": "stream",
     "text": [
      "/home/haser/Audio-alignment-model/.venv/lib/python3.12/site-packages/tqdm/auto.py:21: TqdmWarning: IProgress not found. Please update jupyter and ipywidgets. See https://ipywidgets.readthedocs.io/en/stable/user_install.html\n",
      "  from .autonotebook import tqdm as notebook_tqdm\n"
     ]
    }
   ],
   "source": [
    "from src.datasets.audio_dataset import AudioDataset\n",
    "from torch.utils.data import DataLoader\n",
    "datasets = AudioDataset(\n",
    "audio_dir = \"dataset\",\n",
    "                        midi_dir = \"dataset\",\n",
    "                        hop_size = 1024,\n",
    "                        dataset_size = 1,\n",
    "                        new_sr = 44100,\n",
    "                        frame_size = 1\n",
    ")\n",
    "dataloader = DataLoader(\n",
    "    datasets,          # Датасет\n",
    "    batch_size=1,     # Размер батча\n",
    "    num_workers=2     # Количество потоков для загрузки данных\n",
    ")\n"
   ]
  },
  {
   "cell_type": "code",
   "execution_count": null,
   "metadata": {},
   "outputs": [
    {
     "ename": "ValueError",
     "evalue": "all the input array dimensions except for the concatenation axis must match exactly, but along dimension 1, the array at index 0 has size 129 and the array at index 1 has size 128",
     "output_type": "error",
     "traceback": [
      "\u001b[0;31m---------------------------------------------------------------------------\u001b[0m",
      "\u001b[0;31mValueError\u001b[0m                                Traceback (most recent call last)",
      "Cell \u001b[0;32mIn[28], line 8\u001b[0m\n\u001b[1;32m      6\u001b[0m     y_pred \u001b[38;5;241m=\u001b[39m model(audio)\n\u001b[1;32m      7\u001b[0m     pred_log \u001b[38;5;241m=\u001b[39m torch\u001b[38;5;241m.\u001b[39msqueeze(y_pred\u001b[38;5;241m.\u001b[39mto(\u001b[38;5;124m'\u001b[39m\u001b[38;5;124mcpu\u001b[39m\u001b[38;5;124m'\u001b[39m))\u001b[38;5;241m.\u001b[39mdetach()\u001b[38;5;241m.\u001b[39mnumpy()\n\u001b[0;32m----> 8\u001b[0m     pred_tot \u001b[38;5;241m=\u001b[39m \u001b[43mnp\u001b[49m\u001b[38;5;241;43m.\u001b[39;49m\u001b[43mappend\u001b[49m\u001b[43m(\u001b[49m\u001b[43mpred_tot\u001b[49m\u001b[43m,\u001b[49m\u001b[43m \u001b[49m\u001b[43mpred_log\u001b[49m\u001b[43m[\u001b[49m\u001b[38;5;241;43m1\u001b[39;49m\u001b[43m,\u001b[49m\u001b[43m \u001b[49m\u001b[43m:\u001b[49m\u001b[43m,\u001b[49m\u001b[43m \u001b[49m\u001b[38;5;241;43m1\u001b[39;49m\u001b[43m:\u001b[49m\u001b[43m]\u001b[49m\u001b[43m,\u001b[49m\u001b[43m \u001b[49m\u001b[43maxis\u001b[49m\u001b[38;5;241;43m=\u001b[39;49m\u001b[38;5;241;43m0\u001b[39;49m\u001b[43m)\u001b[49m\n\u001b[1;32m      9\u001b[0m \u001b[38;5;66;03m#predictions = pred_tot\u001b[39;00m\n\u001b[1;32m     10\u001b[0m predictions \u001b[38;5;241m=\u001b[39m np\u001b[38;5;241m.\u001b[39mexp(pred_tot)\n",
      "File \u001b[0;32m~/Audio-alignment-model/.venv/lib/python3.12/site-packages/numpy/lib/function_base.py:5618\u001b[0m, in \u001b[0;36mappend\u001b[0;34m(arr, values, axis)\u001b[0m\n\u001b[1;32m   5616\u001b[0m     values \u001b[38;5;241m=\u001b[39m ravel(values)\n\u001b[1;32m   5617\u001b[0m     axis \u001b[38;5;241m=\u001b[39m arr\u001b[38;5;241m.\u001b[39mndim\u001b[38;5;241m-\u001b[39m\u001b[38;5;241m1\u001b[39m\n\u001b[0;32m-> 5618\u001b[0m \u001b[38;5;28;01mreturn\u001b[39;00m \u001b[43mconcatenate\u001b[49m\u001b[43m(\u001b[49m\u001b[43m(\u001b[49m\u001b[43marr\u001b[49m\u001b[43m,\u001b[49m\u001b[43m \u001b[49m\u001b[43mvalues\u001b[49m\u001b[43m)\u001b[49m\u001b[43m,\u001b[49m\u001b[43m \u001b[49m\u001b[43maxis\u001b[49m\u001b[38;5;241;43m=\u001b[39;49m\u001b[43maxis\u001b[49m\u001b[43m)\u001b[49m\n",
      "\u001b[0;31mValueError\u001b[0m: all the input array dimensions except for the concatenation axis must match exactly, but along dimension 1, the array at index 0 has size 129 and the array at index 1 has size 128"
     ]
    }
   ],
   "source": [
    "import numpy as np\n",
    "pred_tot = np.zeros((0, 128))\n",
    "for batch_data in dataloader:\n",
    "    audio = batch_data['audio']\n",
    "    labels = batch_data['notes']\n",
    "    y_pred = model(audio)\n",
    "    pred_log = torch.squeeze(y_pred.to('cpu')).detach().numpy()\n",
    "    pred_tot = np.append(pred_tot, pred_log[1, :, 1:], axis=0)\n",
    "#predictions = pred_tot\n",
    "predictions = np.exp(pred_tot)"
   ]
  },
  {
   "cell_type": "code",
   "execution_count": null,
   "metadata": {},
   "outputs": [
    {
     "name": "stdout",
     "output_type": "stream",
     "text": [
      "(54120, 129)\n"
     ]
    }
   ],
   "source": [
    "print(predictions.shape)"
   ]
  },
  {
   "cell_type": "code",
   "execution_count": null,
   "metadata": {},
   "outputs": [
    {
     "data": {
      "image/png": "[encoded data removed]",
      "text/plain": [
       "<Figure size 640x480 with 2 Axes>"
      ]
     },
     "metadata": {},
     "output_type": "display_data"
    }
   ],
   "source": [
    "import matplotlib.pyplot as plt\n",
    "plt.imshow(predictions.T[:,:200], cmap='viridis', interpolation='nearest')\n",
    "plt.colorbar(label='Value')\n",
    "plt.show()"
   ]
  },
  {
   "cell_type": "code",
   "execution_count": 29,
   "metadata": {},
   "outputs": [],
   "source": [
    "real_predictions = (predictions > 0.5).astype(int)"
   ]
  },
  {
   "cell_type": "code",
   "execution_count": 30,
   "metadata": {},
   "outputs": [],
   "source": [
    "notes = []\n",
    "for batch in dataloader:\n",
    "    notes.append(batch['notes'][0])"
   ]
  },
  {
   "cell_type": "code",
   "execution_count": 31,
   "metadata": {},
   "outputs": [
    {
     "name": "stdout",
     "output_type": "stream",
     "text": [
      "torch.Size([44, 128])\n"
     ]
    }
   ],
   "source": [
    "print(notes[0].shape)"
   ]
  },
  {
   "cell_type": "code",
   "execution_count": 32,
   "metadata": {},
   "outputs": [],
   "source": [
    "fn_annot_pitch = torch.vstack(notes[:100]).T"
   ]
  },
  {
   "cell_type": "code",
   "execution_count": 33,
   "metadata": {},
   "outputs": [
    {
     "name": "stdout",
     "output_type": "stream",
     "text": [
      "torch.Size([128, 4400])\n"
     ]
    }
   ],
   "source": [
    "print(fn_annot_pitch.shape)"
   ]
  },
  {
   "cell_type": "code",
   "execution_count": 34,
   "metadata": {},
   "outputs": [],
   "source": [
    "predictions=predictions[:fn_annot_pitch.shape[1]]"
   ]
  },
  {
   "cell_type": "code",
   "execution_count": 35,
   "metadata": {},
   "outputs": [],
   "source": [
    "fn_annot_pitch = fn_annot_pitch.numpy()"
   ]
  },
  {
   "cell_type": "code",
   "execution_count": 36,
   "metadata": {},
   "outputs": [
    {
     "data": {
      "image/png": "[encoded data removed]",
      "text/plain": [
       "<Figure size 640x480 with 2 Axes>"
      ]
     },
     "metadata": {},
     "output_type": "display_data"
    }
   ],
   "source": [
    "plt.imshow(fn_annot_pitch[:,:500], cmap='viridis', interpolation='nearest')\n",
    "plt.colorbar(label='Value')\n",
    "plt.show()"
   ]
  },
  {
   "cell_type": "code",
   "execution_count": 37,
   "metadata": {},
   "outputs": [],
   "source": [
    "# А кто ж знал что numpy не сохраняет порядок\n",
    "#эта функция вообще не работает для тензоров из torch\n",
    "def unique_rows_preserve_order(matrix):\n",
    "    seen = set()\n",
    "    unique_rows = []\n",
    "    cnt = 0\n",
    "    for row in matrix:\n",
    "        row_tuple = tuple(row)\n",
    "        if row_tuple not in seen:\n",
    "            seen.add(row_tuple)\n",
    "            unique_rows.append(row)\n",
    "    unique_matrix = np.array(unique_rows)\n",
    "    return unique_matrix"
   ]
  },
  {
   "cell_type": "code",
   "execution_count": 38,
   "metadata": {},
   "outputs": [
    {
     "name": "stdout",
     "output_type": "stream",
     "text": [
      "(128, 4400)\n"
     ]
    }
   ],
   "source": [
    "print(fn_annot_pitch.shape)"
   ]
  },
  {
   "cell_type": "code",
   "execution_count": 39,
   "metadata": {},
   "outputs": [
    {
     "name": "stdout",
     "output_type": "stream",
     "text": [
      "(405, 128)\n"
     ]
    },
    {
     "data": {
      "text/plain": [
       "<matplotlib.image.AxesImage at 0x7fa65201c4d0>"
      ]
     },
     "execution_count": 39,
     "metadata": {},
     "output_type": "execute_result"
    },
    {
     "data": {
      "image/png": "[encoded data removed]",
      "text/plain": [
       "<Figure size 640x480 with 1 Axes>"
      ]
     },
     "metadata": {},
     "output_type": "display_data"
    }
   ],
   "source": [
    "f_annot_pitch_unique = unique_rows_preserve_order(fn_annot_pitch.T)\n",
    "print(f_annot_pitch_unique.shape)\n",
    "plt.imshow(f_annot_pitch_unique.T[:,:100])"
   ]
  },
  {
   "cell_type": "code",
   "execution_count": 24,
   "metadata": {},
   "outputs": [
    {
     "ename": "NameError",
     "evalue": "name 'pd' is not defined",
     "output_type": "error",
     "traceback": [
      "\u001b[0;31m---------------------------------------------------------------------------\u001b[0m",
      "\u001b[0;31mNameError\u001b[0m                                 Traceback (most recent call last)",
      "Cell \u001b[0;32mIn[24], line 1\u001b[0m\n\u001b[0;32m----> 1\u001b[0m df \u001b[38;5;241m=\u001b[39m \u001b[43mpd\u001b[49m\u001b[38;5;241m.\u001b[39mread_csv(fn_annot, sep\u001b[38;5;241m=\u001b[39m\u001b[38;5;124m'\u001b[39m\u001b[38;5;124m;\u001b[39m\u001b[38;5;124m'\u001b[39m, skiprows\u001b[38;5;241m=\u001b[39m\u001b[38;5;241m1\u001b[39m, header\u001b[38;5;241m=\u001b[39m\u001b[38;5;28;01mNone\u001b[39;00m)\n\u001b[1;32m      2\u001b[0m note_events \u001b[38;5;241m=\u001b[39m df\u001b[38;5;241m.\u001b[39mto_numpy()[:, :\u001b[38;5;241m3\u001b[39m]\n\u001b[1;32m      3\u001b[0m \u001b[38;5;28mprint\u001b[39m(note_events)\n",
      "\u001b[0;31mNameError\u001b[0m: name 'pd' is not defined"
     ]
    }
   ],
   "source": [
    "df = pd.read_csv(fn_annot, sep=';', skiprows=1, header=None)\n",
    "note_events = df.to_numpy()[:, :3]\n",
    "print(note_events)\n",
    "gt_segments = [[] for _ in range(72)]\n",
    "for event in note_events:\n",
    "    gt_segments[event[2]].append([event[0],event[1]])\n",
    "print(gt_segments)"
   ]
  },
  {
   "cell_type": "code",
   "execution_count": 40,
   "metadata": {},
   "outputs": [
    {
     "name": "stdout",
     "output_type": "stream",
     "text": [
      "0.04045454545454545\n",
      "(4400, 129)\n"
     ]
    }
   ],
   "source": [
    "#Костыль т.к формулу тут я не знаю\n",
    "segment_duration = 178 / len(predictions)\n",
    "print(segment_duration)\n",
    "print(predictions.shape)"
   ]
  },
  {
   "cell_type": "code",
   "execution_count": 41,
   "metadata": {},
   "outputs": [],
   "source": [
    "#Кажется что было бы очень мило обернуть всё это в один класс (если будешь переносить в прод займись)\n",
    "\n",
    "def get_segments(A, segment_duration = segment_duration): #A.shape = (pitches, len(audio))\n",
    "    predict_segments = []\n",
    "    for i in range(A.shape[0]):\n",
    "        found_segments = []\n",
    "        L = 0\n",
    "        len = 0\n",
    "        for j in range(A.shape[1]):\n",
    "            if A[i][j] == 1:\n",
    "                if (len == 0):\n",
    "                    L = j\n",
    "                len+=1\n",
    "            else:\n",
    "                if (len > 0):\n",
    "                    found_segments.append([L*segment_duration, (L+len)*segment_duration])\n",
    "                L = j\n",
    "                len = 0\n",
    "        if (len > 0):\n",
    "            found_segments.append([L*segment_duration, (L+len)*segment_duration])\n",
    "        predict_segments.append(found_segments)\n",
    "    return predict_segments \n",
    "\n",
    "def intersection_length(gt_segments, predict_segments):\n",
    "    total_length = 0\n",
    "    for gt_start, gt_end in gt_segments:\n",
    "        for pred_start, pred_end in predict_segments:\n",
    "            intersect_start = max(gt_start, pred_start)\n",
    "            intersect_end = min(gt_end, pred_end)\n",
    "            if intersect_start < intersect_end:\n",
    "                total_length += intersect_end - intersect_start\n",
    "    return total_length\n",
    "\n",
    "def get_segments_length(segments):\n",
    "    total_length = 0\n",
    "    for segment in segments:\n",
    "        total_length = total_length + max(0,segment[1] - segment[0])\n",
    "    return total_length\n",
    "def recall(A,gt_segments, segment_duration = segment_duration):\n",
    "    predict_segments = get_segments(A,segment_duration)\n",
    "    recall = 0\n",
    "    for predict_segment, gt_segment in zip(predict_segments, gt_segments):\n",
    "        if predict_segment == []:\n",
    "            recall = recall + 1\n",
    "        else:\n",
    "            recall = recall + (intersection_length(predict_segment, gt_segment))/(get_segments_length(predict_segment))\n",
    "    return recall/len(gt_segments)\n",
    "def precision(A,gt_segments, segment_duration = segment_duration):\n",
    "    predict_segments = get_segments(A,segment_duration)\n",
    "    precision = 0\n",
    "    for predict_segment, gt_segment in zip(predict_segments, gt_segments):\n",
    "        if predict_segment == []:\n",
    "            precision = precision + 1\n",
    "        else:\n",
    "            precision = precision + (intersection_length(predict_segment, gt_segment))/(get_segments_length(gt_segment))\n",
    "    return precision/len(gt_segments)\n",
    "def f1(A,gt_segments,segment_duration = segment_duration):\n",
    "    P = precision(A,gt_segments,segment_duration)\n",
    "    R = recall(A,gt_segments,segment_duration)\n",
    "    return (2.0 * (P * R)/(P+R))"
   ]
  },
  {
   "cell_type": "markdown",
   "metadata": {},
   "source": [
    "## Косинусное расстояние"
   ]
  },
  {
   "cell_type": "code",
   "execution_count": 42,
   "metadata": {},
   "outputs": [
    {
     "name": "stdout",
     "output_type": "stream",
     "text": [
      "(4400, 129)\n",
      "(405, 128)\n"
     ]
    },
    {
     "ename": "ValueError",
     "evalue": "Incompatible dimension for X and Y matrices: X.shape[1] == 129 while Y.shape[1] == 128",
     "output_type": "error",
     "traceback": [
      "\u001b[0;31m---------------------------------------------------------------------------\u001b[0m",
      "\u001b[0;31mValueError\u001b[0m                                Traceback (most recent call last)",
      "Cell \u001b[0;32mIn[42], line 96\u001b[0m\n\u001b[1;32m     88\u001b[0m \u001b[38;5;66;03m#Y = np.array([a,b,c])\u001b[39;00m\n\u001b[1;32m     89\u001b[0m P \u001b[38;5;241m=\u001b[39m np\u001b[38;5;241m.\u001b[39marray([\n\u001b[1;32m     90\u001b[0m     b,  \u001b[38;5;66;03m# C active\u001b[39;00m\n\u001b[1;32m     91\u001b[0m     c,  \u001b[38;5;66;03m# E active (misaligned)\u001b[39;00m\n\u001b[0;32m   (...)\u001b[0m\n\u001b[1;32m     94\u001b[0m     b\n\u001b[1;32m     95\u001b[0m ])\n\u001b[0;32m---> 96\u001b[0m C, path \u001b[38;5;241m=\u001b[39m \u001b[43mdtw_multilabel_with_pauses\u001b[49m\u001b[43m(\u001b[49m\u001b[43mpredictions\u001b[49m\u001b[43m,\u001b[49m\u001b[43m \u001b[49m\u001b[43mf_annot_pitch_unique\u001b[49m\u001b[43m)\u001b[49m\n\u001b[1;32m     97\u001b[0m \u001b[38;5;28mprint\u001b[39m(\u001b[38;5;124m\"\u001b[39m\u001b[38;5;124mAccumulated cost matrix:\u001b[39m\u001b[38;5;130;01m\\n\u001b[39;00m\u001b[38;5;124m\"\u001b[39m, C)\n\u001b[1;32m     98\u001b[0m \u001b[38;5;28mprint\u001b[39m(\u001b[38;5;124m\"\u001b[39m\u001b[38;5;124mOptimal path:\u001b[39m\u001b[38;5;124m\"\u001b[39m, path)\n",
      "Cell \u001b[0;32mIn[42], line 13\u001b[0m, in \u001b[0;36mdtw_multilabel_with_pauses\u001b[0;34m(Y, P, distance_fn)\u001b[0m\n\u001b[1;32m     11\u001b[0m \u001b[38;5;28mprint\u001b[39m(P\u001b[38;5;241m.\u001b[39mshape)\n\u001b[1;32m     12\u001b[0m N, M \u001b[38;5;241m=\u001b[39m \u001b[38;5;28mlen\u001b[39m(Y), \u001b[38;5;28mlen\u001b[39m(P)\n\u001b[0;32m---> 13\u001b[0m D \u001b[38;5;241m=\u001b[39m \u001b[38;5;241m1\u001b[39m \u001b[38;5;241m-\u001b[39m \u001b[43mcosine_similarity\u001b[49m\u001b[43m(\u001b[49m\u001b[43mY\u001b[49m\u001b[43m,\u001b[49m\u001b[43mP\u001b[49m\u001b[43m)\u001b[49m\n\u001b[1;32m     15\u001b[0m \u001b[38;5;66;03m# Build distance matrix\u001b[39;00m\n\u001b[1;32m     16\u001b[0m \u001b[38;5;66;03m#for i in range(N):\u001b[39;00m\n\u001b[1;32m     17\u001b[0m \u001b[38;5;66;03m#    for j in range(M):\u001b[39;00m\n\u001b[1;32m     18\u001b[0m \u001b[38;5;66;03m#        D[i, j] = distance_fn(Y[i], P[j])\u001b[39;00m\n\u001b[1;32m     19\u001b[0m \n\u001b[1;32m     20\u001b[0m \u001b[38;5;66;03m# Initialize accumulated cost matrix\u001b[39;00m\n\u001b[1;32m     21\u001b[0m C \u001b[38;5;241m=\u001b[39m np\u001b[38;5;241m.\u001b[39mzeros((N, M))\n",
      "File \u001b[0;32m~/Audio-alignment-model/.venv/lib/python3.12/site-packages/sklearn/utils/_param_validation.py:216\u001b[0m, in \u001b[0;36mvalidate_params.<locals>.decorator.<locals>.wrapper\u001b[0;34m(*args, **kwargs)\u001b[0m\n\u001b[1;32m    210\u001b[0m \u001b[38;5;28;01mtry\u001b[39;00m:\n\u001b[1;32m    211\u001b[0m     \u001b[38;5;28;01mwith\u001b[39;00m config_context(\n\u001b[1;32m    212\u001b[0m         skip_parameter_validation\u001b[38;5;241m=\u001b[39m(\n\u001b[1;32m    213\u001b[0m             prefer_skip_nested_validation \u001b[38;5;129;01mor\u001b[39;00m global_skip_validation\n\u001b[1;32m    214\u001b[0m         )\n\u001b[1;32m    215\u001b[0m     ):\n\u001b[0;32m--> 216\u001b[0m         \u001b[38;5;28;01mreturn\u001b[39;00m \u001b[43mfunc\u001b[49m\u001b[43m(\u001b[49m\u001b[38;5;241;43m*\u001b[39;49m\u001b[43margs\u001b[49m\u001b[43m,\u001b[49m\u001b[43m \u001b[49m\u001b[38;5;241;43m*\u001b[39;49m\u001b[38;5;241;43m*\u001b[39;49m\u001b[43mkwargs\u001b[49m\u001b[43m)\u001b[49m\n\u001b[1;32m    217\u001b[0m \u001b[38;5;28;01mexcept\u001b[39;00m InvalidParameterError \u001b[38;5;28;01mas\u001b[39;00m e:\n\u001b[1;32m    218\u001b[0m     \u001b[38;5;66;03m# When the function is just a wrapper around an estimator, we allow\u001b[39;00m\n\u001b[1;32m    219\u001b[0m     \u001b[38;5;66;03m# the function to delegate validation to the estimator, but we replace\u001b[39;00m\n\u001b[1;32m    220\u001b[0m     \u001b[38;5;66;03m# the name of the estimator by the name of the function in the error\u001b[39;00m\n\u001b[1;32m    221\u001b[0m     \u001b[38;5;66;03m# message to avoid confusion.\u001b[39;00m\n\u001b[1;32m    222\u001b[0m     msg \u001b[38;5;241m=\u001b[39m re\u001b[38;5;241m.\u001b[39msub(\n\u001b[1;32m    223\u001b[0m         \u001b[38;5;124mr\u001b[39m\u001b[38;5;124m\"\u001b[39m\u001b[38;5;124mparameter of \u001b[39m\u001b[38;5;124m\\\u001b[39m\u001b[38;5;124mw+ must be\u001b[39m\u001b[38;5;124m\"\u001b[39m,\n\u001b[1;32m    224\u001b[0m         \u001b[38;5;124mf\u001b[39m\u001b[38;5;124m\"\u001b[39m\u001b[38;5;124mparameter of \u001b[39m\u001b[38;5;132;01m{\u001b[39;00mfunc\u001b[38;5;241m.\u001b[39m\u001b[38;5;18m__qualname__\u001b[39m\u001b[38;5;132;01m}\u001b[39;00m\u001b[38;5;124m must be\u001b[39m\u001b[38;5;124m\"\u001b[39m,\n\u001b[1;32m    225\u001b[0m         \u001b[38;5;28mstr\u001b[39m(e),\n\u001b[1;32m    226\u001b[0m     )\n",
      "File \u001b[0;32m~/Audio-alignment-model/.venv/lib/python3.12/site-packages/sklearn/metrics/pairwise.py:1741\u001b[0m, in \u001b[0;36mcosine_similarity\u001b[0;34m(X, Y, dense_output)\u001b[0m\n\u001b[1;32m   1695\u001b[0m \u001b[38;5;250m\u001b[39m\u001b[38;5;124;03m\"\"\"Compute cosine similarity between samples in X and Y.\u001b[39;00m\n\u001b[1;32m   1696\u001b[0m \n\u001b[1;32m   1697\u001b[0m \u001b[38;5;124;03mCosine similarity, or the cosine kernel, computes similarity as the\u001b[39;00m\n\u001b[0;32m   (...)\u001b[0m\n\u001b[1;32m   1737\u001b[0m \u001b[38;5;124;03m       [0.57..., 0.81...]])\u001b[39;00m\n\u001b[1;32m   1738\u001b[0m \u001b[38;5;124;03m\"\"\"\u001b[39;00m\n\u001b[1;32m   1739\u001b[0m \u001b[38;5;66;03m# to avoid recursive import\u001b[39;00m\n\u001b[0;32m-> 1741\u001b[0m X, Y \u001b[38;5;241m=\u001b[39m \u001b[43mcheck_pairwise_arrays\u001b[49m\u001b[43m(\u001b[49m\u001b[43mX\u001b[49m\u001b[43m,\u001b[49m\u001b[43m \u001b[49m\u001b[43mY\u001b[49m\u001b[43m)\u001b[49m\n\u001b[1;32m   1743\u001b[0m X_normalized \u001b[38;5;241m=\u001b[39m normalize(X, copy\u001b[38;5;241m=\u001b[39m\u001b[38;5;28;01mTrue\u001b[39;00m)\n\u001b[1;32m   1744\u001b[0m \u001b[38;5;28;01mif\u001b[39;00m X \u001b[38;5;129;01mis\u001b[39;00m Y:\n",
      "File \u001b[0;32m~/Audio-alignment-model/.venv/lib/python3.12/site-packages/sklearn/metrics/pairwise.py:229\u001b[0m, in \u001b[0;36mcheck_pairwise_arrays\u001b[0;34m(X, Y, precomputed, dtype, accept_sparse, force_all_finite, ensure_all_finite, ensure_2d, copy)\u001b[0m\n\u001b[1;32m    221\u001b[0m         \u001b[38;5;28;01mraise\u001b[39;00m \u001b[38;5;167;01mValueError\u001b[39;00m(\n\u001b[1;32m    222\u001b[0m             \u001b[38;5;124m\"\u001b[39m\u001b[38;5;124mPrecomputed metric requires shape \u001b[39m\u001b[38;5;124m\"\u001b[39m\n\u001b[1;32m    223\u001b[0m             \u001b[38;5;124m\"\u001b[39m\u001b[38;5;124m(n_queries, n_indexed). Got (\u001b[39m\u001b[38;5;132;01m%d\u001b[39;00m\u001b[38;5;124m, \u001b[39m\u001b[38;5;132;01m%d\u001b[39;00m\u001b[38;5;124m) \u001b[39m\u001b[38;5;124m\"\u001b[39m\n\u001b[1;32m    224\u001b[0m             \u001b[38;5;124m\"\u001b[39m\u001b[38;5;124mfor \u001b[39m\u001b[38;5;132;01m%d\u001b[39;00m\u001b[38;5;124m indexed.\u001b[39m\u001b[38;5;124m\"\u001b[39m \u001b[38;5;241m%\u001b[39m (X\u001b[38;5;241m.\u001b[39mshape[\u001b[38;5;241m0\u001b[39m], X\u001b[38;5;241m.\u001b[39mshape[\u001b[38;5;241m1\u001b[39m], Y\u001b[38;5;241m.\u001b[39mshape[\u001b[38;5;241m0\u001b[39m])\n\u001b[1;32m    225\u001b[0m         )\n\u001b[1;32m    226\u001b[0m \u001b[38;5;28;01melif\u001b[39;00m ensure_2d \u001b[38;5;129;01mand\u001b[39;00m X\u001b[38;5;241m.\u001b[39mshape[\u001b[38;5;241m1\u001b[39m] \u001b[38;5;241m!=\u001b[39m Y\u001b[38;5;241m.\u001b[39mshape[\u001b[38;5;241m1\u001b[39m]:\n\u001b[1;32m    227\u001b[0m     \u001b[38;5;66;03m# Only check the number of features if 2d arrays are enforced. Otherwise,\u001b[39;00m\n\u001b[1;32m    228\u001b[0m     \u001b[38;5;66;03m# validation is left to the user for custom metrics.\u001b[39;00m\n\u001b[0;32m--> 229\u001b[0m     \u001b[38;5;28;01mraise\u001b[39;00m \u001b[38;5;167;01mValueError\u001b[39;00m(\n\u001b[1;32m    230\u001b[0m         \u001b[38;5;124m\"\u001b[39m\u001b[38;5;124mIncompatible dimension for X and Y matrices: \u001b[39m\u001b[38;5;124m\"\u001b[39m\n\u001b[1;32m    231\u001b[0m         \u001b[38;5;124m\"\u001b[39m\u001b[38;5;124mX.shape[1] == \u001b[39m\u001b[38;5;132;01m%d\u001b[39;00m\u001b[38;5;124m while Y.shape[1] == \u001b[39m\u001b[38;5;132;01m%d\u001b[39;00m\u001b[38;5;124m\"\u001b[39m \u001b[38;5;241m%\u001b[39m (X\u001b[38;5;241m.\u001b[39mshape[\u001b[38;5;241m1\u001b[39m], Y\u001b[38;5;241m.\u001b[39mshape[\u001b[38;5;241m1\u001b[39m])\n\u001b[1;32m    232\u001b[0m     )\n\u001b[1;32m    234\u001b[0m \u001b[38;5;28;01mreturn\u001b[39;00m X, Y\n",
      "\u001b[0;31mValueError\u001b[0m: Incompatible dimension for X and Y matrices: X.shape[1] == 129 while Y.shape[1] == 128"
     ]
    }
   ],
   "source": [
    "#Придумать обработку пауз\n",
    "#По метрикам можно будет покрутить различные расстояния\n",
    "#Ну и к тому же нужно придумать как чекать сходство accuracy или чё-то более интересное (типо сходства матриц)\n",
    "from sklearn.metrics.pairwise import cosine_similarity\n",
    "def cosine_distance(y, p):\n",
    "    return cosine_similarity(y,p)\n",
    "    #return np.sum(np.abs(y - p))\n",
    "\n",
    "def dtw_multilabel_with_pauses(Y, P, distance_fn=cosine_distance):\n",
    "    print(Y.shape)\n",
    "    print(P.shape)\n",
    "    N, M = len(Y), len(P)\n",
    "    D = 1 - cosine_similarity(Y,P)\n",
    "    \n",
    "    # Build distance matrix\n",
    "    #for i in range(N):\n",
    "    #    for j in range(M):\n",
    "    #        D[i, j] = distance_fn(Y[i], P[j])\n",
    "    \n",
    "    # Initialize accumulated cost matrix\n",
    "    C = np.zeros((N, M))\n",
    "    C[0, 0] = D[0, 0]\n",
    "    \n",
    "    # Fill first row and column\n",
    "    for i in range(1, N):\n",
    "        C[i, 0] = C[i-1, 0] + D[i, 0]\n",
    "    for j in range(1, M):\n",
    "        C[0, j] = C[0, j-1] + D[0, j]\n",
    "    \n",
    "    # Fill the rest of the matrix\n",
    "    for i in range(1, N):\n",
    "        for j in range(1, M):\n",
    "            if np.all(Y[i] < 0.5):\n",
    "                C[i,j] = D[i,j] + C[i-1,j]\n",
    "            else:\n",
    "                C[i, j] = D[i, j] + min(C[i-1, j], C[i, j-1], C[i-1, j-1])\n",
    "    print(\"Find path\")\n",
    "    # Find the optimal path\n",
    "    path = []\n",
    "    i, j = N-1, M-1\n",
    "    pause = False\n",
    "    while i > 0 or j > 0:\n",
    "        if not(pause):\n",
    "            path.append((i, j))\n",
    "        else:\n",
    "            path.append((i,-1))\n",
    "            pause = False\n",
    "        if i == 0:\n",
    "            j -= 1\n",
    "        elif j == 0:\n",
    "            if np.all(Y[i] < 0.5):\n",
    "                pause = True\n",
    "            i -= 1\n",
    "        else:\n",
    "            if np.all(Y[i] < 0.5):\n",
    "                pause = True\n",
    "                i -= 1\n",
    "            else:\n",
    "                min_cost = min(C[i-1, j], C[i, j-1], C[i-1, j-1])\n",
    "                if min_cost == C[i-1, j]:\n",
    "                    i -= 1\n",
    "                elif min_cost == C[i, j-1]:\n",
    "                    j -= 1\n",
    "                else:\n",
    "                    i -= 1\n",
    "                    j -= 1\n",
    "    if np.all(Y[0] < 0.5):\n",
    "        path.append((0,-1))\n",
    "    else:\n",
    "        path.append((0, 0))\n",
    "    path.reverse()\n",
    "    \n",
    "    return C, path\n",
    "\n",
    "# Example usage\n",
    "#Y = np.array([\n",
    "#    [1, 0, 0],  # C active\n",
    "#    [0, 0, 0],  # Pause\n",
    "#    [0, 1, 0],  # E active\n",
    "#    [0, 0, 1]   # G active\n",
    "#])\n",
    "a = [0] * 72\n",
    "a[0] = 1\n",
    "b = a\n",
    "b[2] = 1\n",
    "c = b\n",
    "c[3] = 1\n",
    "#Y = np.array([a,b,c])\n",
    "P = np.array([\n",
    "    b,  # C active\n",
    "    c,  # E active (misaligned)\n",
    "    a,   # G active\n",
    "    c,\n",
    "    b\n",
    "])\n",
    "C, path = dtw_multilabel_with_pauses(predictions, f_annot_pitch_unique)\n",
    "print(\"Accumulated cost matrix:\\n\", C)\n",
    "print(\"Optimal path:\", path)\n",
    "\n",
    "#visualization\n",
    "#plt.figure(figsize=(8, 6))\n",
    "plt.imshow(C.T, cmap='viridis', origin='lower', aspect='auto')\n",
    "plt.colorbar(label='Accumulated Cost')\n",
    "plt.title('Accumulated Cost Matrix Cosine distance')\n",
    "print(C.shape)\n",
    "last = 0\n",
    "new_path = []\n",
    "for (i,j) in path:\n",
    "    if (j == -1):\n",
    "        j = last\n",
    "    new_path.append((i,j))\n",
    "    last = j\n",
    "# Отметим оптимальный путь\n",
    "path_x, path_y = zip(*new_path)\n",
    "plt.plot(path_x, path_y, color='red', marker='o', markersize=1, label='Optimal Path')\n",
    "plt.xlabel('Predictions')\n",
    "plt.ylabel('Ground truth')\n",
    "plt.legend()\n",
    "plt.show()"
   ]
  },
  {
   "cell_type": "code",
   "execution_count": null,
   "metadata": {},
   "outputs": [],
   "source": [
    "#Построим нужную матрицу по пути\n",
    "empty = [0 for _ in range(128)]\n",
    "A = []\n",
    "for step in path:\n",
    "    if step[1] != -1:\n",
    "        A.append(f_annot_pitch_unique[step[1]])\n",
    "    else:\n",
    "        A.append(empty)\n",
    "A = np.array(A)\n",
    "print(f\"Recall: {recall(A.T,gt_segments)}\")\n",
    "print(f\"Precision: {precision(A.T,gt_segments)}\")\n",
    "print(f\"F1: {f1(A.T, gt_segments)}\")"
   ]
  }
 ],
 "metadata": {
  "kernelspec": {
   "display_name": ".venv",
   "language": "python",
   "name": "python3"
  },
  "language_info": {
   "codemirror_mode": {
    "name": "ipython",
    "version": 3
   },
   "file_extension": ".py",
   "mimetype": "text/x-python",
   "name": "python",
   "nbconvert_exporter": "python",
   "pygments_lexer": "ipython3",
   "version": "3.12.4"
  }
 },
 "nbformat": 4,
 "nbformat_minor": 2
}
